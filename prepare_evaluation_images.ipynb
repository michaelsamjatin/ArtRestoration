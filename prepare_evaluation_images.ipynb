{
 "cells": [
  {
   "cell_type": "markdown",
   "metadata": {},
   "source": [
    "# Resizing the images for the evaluation on real data\n",
    "Obviously, one could simply apply a transform on the images with PyTorch, but I want to reduze the size of the dataset before moving it to Colab / Github."
   ]
  },
  {
   "cell_type": "code",
   "execution_count": 1,
   "metadata": {},
   "outputs": [],
   "source": [
    "import os\n",
    "import cv2\n",
    "from pathlib import Path"
   ]
  },
  {
   "cell_type": "code",
   "execution_count": 2,
   "metadata": {},
   "outputs": [],
   "source": [
    "import matplotlib.pyplot as plt\n",
    "\n",
    "# Set default color map and interpolation method for images.\n",
    "plt.rcParams['image.cmap'] = 'gray'\n",
    "plt.rcParams['image.interpolation'] = 'nearest'\n",
    "\n",
    "%matplotlib inline"
   ]
  },
  {
   "cell_type": "code",
   "execution_count": 3,
   "metadata": {},
   "outputs": [],
   "source": [
    "def display(figsize, images):\n",
    "    \"\"\"\n",
    "    Display one or more images in a single figure.\n",
    "\n",
    "    Parameters:\n",
    "        - figsize: Size of the figure with (width, height).\n",
    "        - images: List of tuples with (image, title, position).\n",
    "\n",
    "    \"\"\"\n",
    "    plt.figure(figsize=figsize)\n",
    "\n",
    "    for image, title, position in images:\n",
    "\n",
    "        # Create titled subplot at given position.\n",
    "        plt.subplot(*position if isinstance(position, tuple) else [position])\n",
    "        plt.title(title)\n",
    "\n",
    "        # Disable axis when only showing images.\n",
    "        plt.axis('off')\n",
    "\n",
    "        # Render image into current subplot.\n",
    "        plt.imshow(image)\n",
    "\n",
    "    # Display the figure.\n",
    "    plt.show()"
   ]
  },
  {
   "cell_type": "code",
   "execution_count": null,
   "metadata": {},
   "outputs": [],
   "source": [
    "# data\n",
    "sample_image_path = r\"C:\\Users\\larao\\OneDrive\\Desktop\\Master\\WiSe2425\\DLCV\\Projekt\\ArtRestoration\\evaluation_images\\paired_dataset_art\\damaged\\001.png\"\n",
    "\n",
    "cracked_image = cv2.imread(sample_image_path, cv2.IMREAD_COLOR)\n",
    "#cracked_image = cv2.cvtColor(cracked_image, cv2.COLOR_BGR2RGB)\n",
    "\n",
    "\n",
    "# load images and render them into a figure\n",
    "display((15,5), [\n",
    "   (cracked_image, \"damaged\", 111),\n",
    "])"
   ]
  },
  {
   "cell_type": "code",
   "execution_count": 32,
   "metadata": {},
   "outputs": [
    {
     "name": "stdout",
     "output_type": "stream",
     "text": [
      "Image could not be loaded: 3324.jpg\n",
      "Image could not be loaded: damaged-effect-photograph_23-2149991936.jpg\n",
      "Image could not be loaded: damaged-effect-photograph_23-2149991940.jpg\n",
      "Image could not be loaded: file-20210518-17-8a3lyq.jpg\n",
      "Image could not be loaded: xJesusBefore.jpg\n"
     ]
    }
   ],
   "source": [
    "# read in all files in folder\n",
    "IMG_DIR = r\"C:\\Users\\larao\\OneDrive\\Desktop\\Master\\WiSe2425\\DLCV\\Projekt\\ArtRestoration\\evaluation_images\\damaged\"\n",
    "NEW_IMG_DIR = r\"C:\\Users\\larao\\OneDrive\\Desktop\\Master\\WiSe2425\\DLCV\\Projekt\\ArtRestoration\\evaluation_images\\damaged_resized\"\n",
    "new_image_directory = Path(NEW_IMG_DIR)\n",
    "files = [f for f in os.listdir(IMG_DIR)]\n",
    "\n",
    "for f in files:\n",
    "    path = os.path.join(IMG_DIR, f)\n",
    "\n",
    "    image = cv2.imread(path, cv2.IMREAD_COLOR)\n",
    "    # no need to convert the permute the color channels as we only want to resize the image\n",
    "\n",
    "    # resize\n",
    "    target_size = (512, 512)\n",
    "\n",
    "    if image is None:\n",
    "        print(f\"Image could not be loaded: {f}\")\n",
    "        continue\n",
    "\n",
    "    resized_image = cv2.resize(image, target_size, interpolation=cv2.INTER_NEAREST)\n",
    "\n",
    "    # save to new folder\n",
    "    new_image_directory.mkdir(exist_ok=True)\n",
    "    cv2.imwrite(os.path.join(NEW_IMG_DIR, f), resized_image)"
   ]
  }
 ],
 "metadata": {
  "kernelspec": {
   "display_name": "base",
   "language": "python",
   "name": "python3"
  },
  "language_info": {
   "codemirror_mode": {
    "name": "ipython",
    "version": 3
   },
   "file_extension": ".py",
   "mimetype": "text/x-python",
   "name": "python",
   "nbconvert_exporter": "python",
   "pygments_lexer": "ipython3",
   "version": "3.10.9"
  }
 },
 "nbformat": 4,
 "nbformat_minor": 2
}
